{
 "cells": [
  {
   "cell_type": "markdown",
   "metadata": {},
   "source": [
    "# COGS 108 - Project Proposal"
   ]
  },
  {
   "cell_type": "markdown",
   "metadata": {},
   "source": [
    "# Names\n",
    "\n",
    "- Hongan Yu\n",
    "- Meiyan Liu\n",
    "- He Chen\n",
    "- Linlin Zheng\n"
   ]
  },
  {
   "cell_type": "markdown",
   "metadata": {},
   "source": [
    "# Research Question"
   ]
  },
  {
   "cell_type": "markdown",
   "metadata": {},
   "source": [
    "- We want to see if there are factors that influence the housing prices in California. If so, what might be some major factors that causes these housing prices to increase to decrease, and which factor causes the most effect. We have currently concluded 5 key factors, inflation, mortgage rate, population, crime rate and lastly what we believe would have the most impact, average income. \n"
   ]
  },
  {
   "cell_type": "markdown",
   "metadata": {},
   "source": [
    "## Background and Prior Work"
   ]
  },
  {
   "cell_type": "markdown",
   "metadata": {},
   "source": [
    "\n",

    "California, in particular, stands out as one of the most expensive stats in the United Stats concerning housing market cost. In 2024, 7 out of the top 15 most expensive housing markets are located in California. Alarmingly, three of these seven markets have a remarkable one-year price increase exceeding 10%, with San Jose the highest surge at 12.9%. This rapid escalation in housing prices highlights a pressing issue that demands immediate attention(1). As a group, we recognizes the growing trends in the housing market across the United States. However, due to the amount of available data, we've chosen to focus our project specifically on the housing market statistic in California.\n",
   "\n",    
    "Housing market is deeply intertwined with people's lives, significantly affecting their well-being and financial stability. Rising housing cost can lead to increased stress and pressure as individuals and families struggle to afford basic living expense. Moreover, the lack of affordable housing will contribute to the growing number of homeless(2). As prices surge, more are priced out of the market, leading to housing insecurity and homelessness.\n", 
    "\n",
    "Housing price are a critical component of economic stability and individual well-being, influenced by a complex interplay of factors(3). Our group choose the following impact factors for our house price study because they are the most significant determinants influencing housing prices. Understanding these factors allows for a comprehensive analysis of the housing market, particularly in regions like california where housing costs are a pressing concern.\n",
    "\n",
    "**Population** : The average salary or income levels of residents influence their purchasing power in the housing market. Higher income levels enable individuals and families to afford more expensive homes, increasing demand in higher price brackets and potentially driving up overall market prices. \n", 
    "**Mortgage** : Mortgage rate is the interest rate charged on home loans, around 80% of recent buyers financed their housing purchases, at the end, mortgage rates decides the final cost of a house, and buyers usually care a lot about the mortgage rates before they make the actual purchase, leading us believe that this affects the housing price. \n",
    "**Crime** : Crime rate within a city usually have an effect on whether an individual would want to visit the city or not, we believe that this would also have a impact on the housing prices of a city. \n",

    "\n",
    "References (include links):\n",
    "- 1) Homes Sell for Over $1 Million in the Most Expensive Housing Markets: https://smartasset.com/data-studies/most-expensive-housing-markets-2024\n",
    "- 2) Californians: Here’s why your housing costs are so high in 2024: https://calmatters.org/explainers/california-housing-costs-explainer/\n",
    "- 3) Shiller, R. (2007). Understanding recent trends in house prices and home ownership. https://doi.org/10.3386/w13553 \n",
    "- 4) Highlights From the Profile of Home Buyers and Sellers: https://www.nar.realtor/research-and-statistics/research-reports/highlights-from-the-profile-of-home-buyers-and-sellers \n"
   ]
  },




  {
   "cell_type": "markdown",
   "metadata": {},
   "source": [
    "# Hypothesis\n"
   ]
  },
  {
   "cell_type": "markdown",
   "metadata": {},
   "source": [
    "**Inflation:**\n",
    "Higher inflation rates lead to an increase in California housing prices.\n\n",
    "**Mortgage Rate:**\n",
    "Higher mortgage rates cause a decrease in California housing prices.\n\n",
    "**Population:**\n",
    "An increase in population leads to an increase in California housing prices.\n\n",
    "**Crime Rate:**\n",
    "Higher crime rates lead to a decrease in California housing prices.\n\n",
    "**Average Income:**\n",
    "Higher average income levels lead to an increase in California housing prices.\n\n",
    "**Overall Hypothesis:**\n",
    "Among inflation, mortgage rate, population, crime rate, and average income, at least one of these factors significantly impacts California housing prices, with average income having the strongest effect.\n"
    ]
  },
  {
   "cell_type": "markdown",
   "metadata": {},
   "source": [
    "# Data"
   ]
  },
 {
   "cell_type": "markdown",
   "metadata": {},
   "source": [
     "Some ideal datasets that we would want are datasets that contain the average housing prices for each different county, average income of different counties, and other factors such as mortgage rates that might affect housing prices. We don't want data separated by variables like gender or race because such information might alter our observation. \n\n",
     "Below are some of the datasets that we have in mind so far.\n\n",
     "**Dataset 1**:\n\n",
     "- <https://www.kaggle.com/datasets/camnugent/california-housing-prices/data>\n\n",
     "This dataset contains different columns that store the average housing prices based on its longitude and latitude. It also has different factors, such as the number of bedrooms, but these factors will not be considered in this project because we are looking for the average cost of all houses. The dataset also provides data such as population and median income, which are factors we believe might affect housing prices. This dataset fits us perfectly because it provides location-based data without demographic variables, such as gender or race, that might bias our analysis.\n\n",
     "This dataset was collected by the census, which was operated by the government. Hence, we find this data trustworthy, and it fits our goal perfectly.\n\n",
     "**Dataset 2**:\n\n",
     "- <https://dof.ca.gov/forecasting/economics/economic-indicators/inflation/>\n\n",
     "This dataset contains the inflation rate for California over the past 30 years, which we believe might affect housing prices.\n\n",
     "**Dataset 3**:\n\n",
     "- <https://themortgagereports.com/61853/30-year-mortgage-rates-chart#average>\n\n",
     "This dataset contains the mortgage rates in California over the past 30 years. We believe that mortgage rates have a great impact on housing prices because they directly affect how much a house would cost for many families."
   ]
 },
  {
   "cell_type": "markdown",
   "metadata": {},
   "source": [
    "# Ethics & Privacy"
   ]
  },
  {
   "cell_type": "markdown",
   "metadata": {},
   "source": [
    "Our data is reliable and includes sources from trusted public resources, such as the California Association of Realtors (CAR). \n",
    "The CAR dataset provides detailed information on county-level sales activity, which allows us to assess housing market trends across different regions.\n",
    "\n",
    "One potential bias in our analysis is the exclusion of proximity to school districts as a factor. \n",
    "School district proximity can significantly influence house prices, especially for families looking for quality education options. \n",
    "We have employed statistical methods to detect and address any biases in the datasets, such as over-represented or under-represented data points. Our approach is designed to provide a balanced view of the factors influencing house prices.\n",
    "\n",
    "Any limitations and biases will be transparently addressed in our final report, including potential errors or gaps in the data that could affect our conclusions. \n",
    "We don't want any of our data to be biased towards ideas like gender or race, we only want to consider data categorized by locations. So we try not to attain datasets that is potentially biased towards certain groups of individuals. \n"
   ]
  },
  {
   "cell_type": "markdown",
   "metadata": {},
   "source": [
    "# Team Expectations "
   ]
  },
  {
   "cell_type": "markdown",
   "metadata": {},
   "source": [
    "\n",
    "- *Team Expectation 1: Communication expectations. Project discussions between members will use DISCORD. Meet virtually (ZOOM) or face-to-face at least once a week, and no member should be absent during the discussion.*\n",
    "- *Team Expectation 2: Tone expectations. It is recommended to use a tone like \"blunt but polite\" when communicating between members.*\n",
    "- *Team Expecation 3: Decision expectations. All decisions will be made unanimously by majority vote. If a decision must be made in a short period of time and a member does not respond, the person involved can make the decision immediately.*\n",
    "- *Team Expecation 4: Everyone will do a little bit of everything. Tasks will be assigned to each member after discussion by each member. The whole team views the current task list and checks its progress through DISCORD.* \n"
   ]
  },
  {
   "cell_type": "markdown",
   "metadata": {},
   "source": [
    "# Project Timeline Proposal"
   ]
  },
  {
   "cell_type": "markdown",
   "metadata": {},
   "source": [
    "\n",
    "| Meeting Date  | Meeting Time| Completed Before Meeting  | Discuss at Meeting |\n",
    "|---|---|---|---|\n",
    "| 10/23  |  1 PM | Read & Think about COGS 108 expectations; brainstorm topics/questions  | Determine best form of communication; Discuss and decide on final project topic; discuss hypothesis; begin background research | \n",
    "| 10/27  |  4 PM |  Do background research on topic | Discuss ideal dataset(s) and ethics; draft project proposal | \n",
    "| 10/30  | 9 PM  | Edit, finalize, and submit proposal; Search for datasets  | Discuss Wrangling and possible analytical approaches; Assign group members to lead each specific part   |\n",
    "| 11/10  | 10 AM  | Import & Wrangle Data (Housing Price); EDA (Salary) | Review/Edit wrangling/EDA; Discuss Analysis Plan   |\n",
    "| 11/20  | 10 AM  | Finalize wrangling/EDA; Begin Analysis (Mortage Rate; Population) | Discuss/edit Analysis; Complete project check-in |\n",
    "| 11/20  | 12 PM  | Complete analysis; Draft results/conclusion/discussion (Wasp)| Discuss/edit full project |\n",
    "| 12/11  | Before 11:59 PM  | NA | Turn in Final Project & Group Project Surveys |"
   ]
  }
 ],
 "metadata": {
  "kernelspec": {
   "display_name": "Python 3 (ipykernel)",
   "language": "python",
   "name": "python3"
  },
  "language_info": {
   "codemirror_mode": {
    "name": "ipython",
    "version": 3
   },
   "file_extension": ".py",
   "mimetype": "text/x-python",
   "name": "python",
   "nbconvert_exporter": "python",
   "pygments_lexer": "ipython3",
   "version": "3.9.7"
  }
 },
 "nbformat": 4,
 "nbformat_minor": 2
}
